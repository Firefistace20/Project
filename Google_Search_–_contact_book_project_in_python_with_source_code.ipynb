{
  "cells": [
    {
      "cell_type": "markdown",
      "metadata": {
        "id": "view-in-github",
        "colab_type": "text"
      },
      "source": [
        "<a href=\"https://colab.research.google.com/github/Firefistace20/Project/blob/main/Google_Search_%E2%80%93_contact_book_project_in_python_with_source_code.ipynb\" target=\"_parent\"><img src=\"https://colab.research.google.com/assets/colab-badge.svg\" alt=\"Open In Colab\"/></a>"
      ]
    },
    {
      "cell_type": "code",
      "source": [
        "contactscontacts = {}  # Dictionary to store contacts\n",
        "\n",
        "def add_contact():\n",
        "    \"\"\"\n",
        "    Adds a new contact to the contact book.\n",
        "    \"\"\"\n",
        "    name = input(\"Enter contact name: \")\n",
        "    phone = input(\"Enter phone number: \")\n",
        "    contacts[name] = phone\n",
        "    print(\"Contact added successfully!\")\n",
        "\n",
        "def view_contacts():\n",
        "    \"\"\"\n",
        "    Displays all contacts in the contact book.\n",
        "    \"\"\"\n",
        "    if not contacts:\n",
        "        print(\"No contacts found.\")\n",
        "    else:\n",
        "        for name, number in contacts.items():\n",
        "            print(f\"{name}: {number}\")\n",
        "\n",
        "def edit_contact():\n",
        "    \"\"\"\n",
        "    Edits an existing contact's phone number.\n",
        "    \"\"\"\n",
        "    name = input(\"Enter name of contact to edit: \")\n",
        "    if name in contacts:\n",
        "        new_phone = input(\"Enter new phone number: \")\n",
        "        contacts[name] = new_phone\n",
        "        print(\"Contact updated!\")\n",
        "    else:\n",
        "        print(\"Contact not found.\")\n",
        "\n",
        "def delete_contact():\n",
        "    \"\"\"\n",
        "    Deletes a contact from the contact book.\n",
        "    \"\"\"\n",
        "    name = input(\"Enter name of contact to delete: \")\n",
        "    if name in contacts:\n",
        "        del contacts[name]\n",
        "        print(\"Contact deleted!\")\n",
        "    else:\n",
        "        print(\"Contact not found.\")\n",
        "\n",
        "def main():\n",
        "    \"\"\"\n",
        "    Main function to run the contact book application.\n",
        "    \"\"\"\n",
        "    while True:\n",
        "        print(\"\\nContact Book Menu:\")\n",
        "        print(\"1. Add Contact\")\n",
        "        print(\"2. View Contacts\")\n",
        "        print(\"3. Edit Contact\")\n",
        "        print(\"4. Delete Contact\")\n",
        "        print(\"5. Exit\")\n",
        "\n",
        "        choice = input(\"Enter your choice: \")\n",
        "\n",
        "        if choice == '1':\n",
        "            add_contact()\n",
        "        elif choice == '2':\n",
        "            view_contacts()\n",
        "        elif choice == '3':\n",
        "            edit_contact()\n",
        "        elif choice == '4':\n",
        "            delete_contact()\n",
        "        elif choice == '5':\n",
        "            print(\"Exiting contact book...\")\n",
        "            break\n",
        "        else:\n",
        "            print(\"Invalid choice. Please try again.\")\n",
        "\n",
        "if __name__ == \"__main__\":\n",
        "    main()"
      ],
      "outputs": [],
      "execution_count": null,
      "metadata": {
        "id": "-eUiTg8cP80P"
      }
    },
    {
      "cell_type": "markdown",
      "source": [
        "**Explanation:**\n",
        "\n",
        "* **Data Structure:** The `contacts` dictionary stores contact information where the key is the contact's name and the value is their phone number.\n",
        "* **Functions:**\n",
        "    * `add_contact()`: Prompts the user to enter a name and phone number, then adds this as a new key-value pair to the `contacts` dictionary.\n",
        "    * `view_contacts()`: Iterates through the `contacts` dictionary and prints each contact's name and number.\n",
        "    * `edit_contact()`: Asks for a contact name, updates their phone number if the contact exists.\n",
        "    * `delete_contact()`: Removes a contact from the `contacts` dictionary if found.\n",
        "* **Main Loop:**\n",
        "    * The `main()` function displays a menu with options to add, view, edit, delete, or exit.\n",
        "    * User input is taken and the corresponding function is called based on the choice.\n",
        "\n",
        "**How to Use:**\n",
        "\n",
        "1. **Save the code:** Copy and paste the code into a Python file (e.g., \"contact_book.py\").\n",
        "2. **Run:** Open a terminal and navigate to the directory where you saved the file. Run `python contact_book.py`\n",
        "3. **Interact:** Follow the menu options to add, view, edit, or delete contacts.\n",
        "\n",
        "**Key points:**\n",
        "\n",
        "* **Basic functionality:** This is a simple contact book that only stores names and phone numbers.\n",
        "* **No data persistence:** The contact data is stored in memory and will be lost when the program ends. To save data, you could use a file or a database.\n",
        "* **Input validation:** You could add checks to ensure users enter valid data types (like only numbers for phone numbers).\n",
        "* **GUI:** For a more user-friendly interface, you could use a GUI library like Tkinter to create a graphical window."
      ],
      "metadata": {
        "id": "p0lRH0t1P80Y"
      }
    }
  ],
  "metadata": {
    "colab": {
      "provenance": [],
      "include_colab_link": true
    },
    "kernelspec": {
      "display_name": "Python 3",
      "name": "python3"
    }
  },
  "nbformat": 4,
  "nbformat_minor": 0
}